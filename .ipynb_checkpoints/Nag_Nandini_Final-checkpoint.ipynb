{
 "cells": [
  {
   "cell_type": "markdown",
   "id": "581ec1db-ba05-4724-aa06-ef90c2ce5034",
   "metadata": {},
   "source": [
    "<center><h1>Nag_Nandini_FinalProject</h1></center> "
   ]
  },
  {
   "cell_type": "markdown",
   "id": "d1b0cd82-78e2-471b-aa94-5c8524f4ce3b",
   "metadata": {},
   "source": [
    "Name: Nandini Nag \\\n",
    "Github Username: nnag00"
   ]
  },
  {
   "cell_type": "markdown",
   "id": "fdafe989-7294-4cf6-96a0-edd1a65f7e57",
   "metadata": {},
   "source": [
    "# 1. Transfer Learning for Image Classification"
   ]
  },
  {
   "cell_type": "markdown",
   "id": "16882741-c766-49fc-924e-4deaf26dd1c2",
   "metadata": {},
   "source": [
    "Import packages"
   ]
  },
  {
   "cell_type": "code",
   "execution_count": 1,
   "id": "f5aca418-4d60-4717-8713-63a8a7e90bf7",
   "metadata": {},
   "outputs": [
    {
     "name": "stdout",
     "output_type": "stream",
     "text": [
      "Python 3.11.11\n"
     ]
    }
   ],
   "source": [
    "! python --version"
   ]
  },
  {
   "cell_type": "code",
   "execution_count": 2,
   "id": "98f1b4a9-34c4-441f-9456-770fa2b2c67b",
   "metadata": {
    "scrolled": true
   },
   "outputs": [
    {
     "name": "stdout",
     "output_type": "stream",
     "text": [
      "Requirement already satisfied: tensorflow==2.17 in /opt/anaconda3/envs/mypython311/lib/python3.11/site-packages (2.17.0)\n",
      "Requirement already satisfied: absl-py>=1.0.0 in /opt/anaconda3/envs/mypython311/lib/python3.11/site-packages (from tensorflow==2.17) (2.1.0)\n",
      "Requirement already satisfied: astunparse>=1.6.0 in /opt/anaconda3/envs/mypython311/lib/python3.11/site-packages (from tensorflow==2.17) (1.6.3)\n",
      "Requirement already satisfied: flatbuffers>=24.3.25 in /opt/anaconda3/envs/mypython311/lib/python3.11/site-packages (from tensorflow==2.17) (24.3.25)\n",
      "Requirement already satisfied: gast!=0.5.0,!=0.5.1,!=0.5.2,>=0.2.1 in /opt/anaconda3/envs/mypython311/lib/python3.11/site-packages (from tensorflow==2.17) (0.6.0)\n",
      "Requirement already satisfied: google-pasta>=0.1.1 in /opt/anaconda3/envs/mypython311/lib/python3.11/site-packages (from tensorflow==2.17) (0.2.0)\n",
      "Requirement already satisfied: h5py>=3.10.0 in /opt/anaconda3/envs/mypython311/lib/python3.11/site-packages (from tensorflow==2.17) (3.12.1)\n",
      "Requirement already satisfied: libclang>=13.0.0 in /opt/anaconda3/envs/mypython311/lib/python3.11/site-packages (from tensorflow==2.17) (18.1.1)\n",
      "Requirement already satisfied: ml-dtypes<0.5.0,>=0.3.1 in /opt/anaconda3/envs/mypython311/lib/python3.11/site-packages (from tensorflow==2.17) (0.4.1)\n",
      "Requirement already satisfied: opt-einsum>=2.3.2 in /opt/anaconda3/envs/mypython311/lib/python3.11/site-packages (from tensorflow==2.17) (3.4.0)\n",
      "Requirement already satisfied: packaging in /opt/anaconda3/envs/mypython311/lib/python3.11/site-packages (from tensorflow==2.17) (24.2)\n",
      "Requirement already satisfied: protobuf!=4.21.0,!=4.21.1,!=4.21.2,!=4.21.3,!=4.21.4,!=4.21.5,<5.0.0dev,>=3.20.3 in /opt/anaconda3/envs/mypython311/lib/python3.11/site-packages (from tensorflow==2.17) (4.25.5)\n",
      "Requirement already satisfied: requests<3,>=2.21.0 in /opt/anaconda3/envs/mypython311/lib/python3.11/site-packages (from tensorflow==2.17) (2.32.3)\n",
      "Requirement already satisfied: setuptools in /opt/anaconda3/envs/mypython311/lib/python3.11/site-packages (from tensorflow==2.17) (75.1.0)\n",
      "Requirement already satisfied: six>=1.12.0 in /opt/anaconda3/envs/mypython311/lib/python3.11/site-packages (from tensorflow==2.17) (1.17.0)\n",
      "Requirement already satisfied: termcolor>=1.1.0 in /opt/anaconda3/envs/mypython311/lib/python3.11/site-packages (from tensorflow==2.17) (2.5.0)\n",
      "Requirement already satisfied: typing-extensions>=3.6.6 in /opt/anaconda3/envs/mypython311/lib/python3.11/site-packages (from tensorflow==2.17) (4.12.2)\n",
      "Requirement already satisfied: wrapt>=1.11.0 in /opt/anaconda3/envs/mypython311/lib/python3.11/site-packages (from tensorflow==2.17) (1.17.0)\n",
      "Requirement already satisfied: grpcio<2.0,>=1.24.3 in /opt/anaconda3/envs/mypython311/lib/python3.11/site-packages (from tensorflow==2.17) (1.68.1)\n",
      "Requirement already satisfied: tensorboard<2.18,>=2.17 in /opt/anaconda3/envs/mypython311/lib/python3.11/site-packages (from tensorflow==2.17) (2.17.1)\n",
      "Requirement already satisfied: keras>=3.2.0 in /opt/anaconda3/envs/mypython311/lib/python3.11/site-packages (from tensorflow==2.17) (3.7.0)\n",
      "Requirement already satisfied: tensorflow-io-gcs-filesystem>=0.23.1 in /opt/anaconda3/envs/mypython311/lib/python3.11/site-packages (from tensorflow==2.17) (0.37.1)\n",
      "Requirement already satisfied: numpy<2.0.0,>=1.23.5 in /opt/anaconda3/envs/mypython311/lib/python3.11/site-packages (from tensorflow==2.17) (1.24.3)\n",
      "Requirement already satisfied: wheel<1.0,>=0.23.0 in /opt/anaconda3/envs/mypython311/lib/python3.11/site-packages (from astunparse>=1.6.0->tensorflow==2.17) (0.44.0)\n",
      "Requirement already satisfied: rich in /opt/anaconda3/envs/mypython311/lib/python3.11/site-packages (from keras>=3.2.0->tensorflow==2.17) (13.9.4)\n",
      "Requirement already satisfied: namex in /opt/anaconda3/envs/mypython311/lib/python3.11/site-packages (from keras>=3.2.0->tensorflow==2.17) (0.0.8)\n",
      "Requirement already satisfied: optree in /opt/anaconda3/envs/mypython311/lib/python3.11/site-packages (from keras>=3.2.0->tensorflow==2.17) (0.13.1)\n",
      "Requirement already satisfied: charset-normalizer<4,>=2 in /opt/anaconda3/envs/mypython311/lib/python3.11/site-packages (from requests<3,>=2.21.0->tensorflow==2.17) (3.4.0)\n",
      "Requirement already satisfied: idna<4,>=2.5 in /opt/anaconda3/envs/mypython311/lib/python3.11/site-packages (from requests<3,>=2.21.0->tensorflow==2.17) (3.10)\n",
      "Requirement already satisfied: urllib3<3,>=1.21.1 in /opt/anaconda3/envs/mypython311/lib/python3.11/site-packages (from requests<3,>=2.21.0->tensorflow==2.17) (2.2.3)\n",
      "Requirement already satisfied: certifi>=2017.4.17 in /opt/anaconda3/envs/mypython311/lib/python3.11/site-packages (from requests<3,>=2.21.0->tensorflow==2.17) (2024.8.30)\n",
      "Requirement already satisfied: markdown>=2.6.8 in /opt/anaconda3/envs/mypython311/lib/python3.11/site-packages (from tensorboard<2.18,>=2.17->tensorflow==2.17) (3.7)\n",
      "Requirement already satisfied: tensorboard-data-server<0.8.0,>=0.7.0 in /opt/anaconda3/envs/mypython311/lib/python3.11/site-packages (from tensorboard<2.18,>=2.17->tensorflow==2.17) (0.7.2)\n",
      "Requirement already satisfied: werkzeug>=1.0.1 in /opt/anaconda3/envs/mypython311/lib/python3.11/site-packages (from tensorboard<2.18,>=2.17->tensorflow==2.17) (3.1.3)\n",
      "Requirement already satisfied: MarkupSafe>=2.1.1 in /opt/anaconda3/envs/mypython311/lib/python3.11/site-packages (from werkzeug>=1.0.1->tensorboard<2.18,>=2.17->tensorflow==2.17) (3.0.2)\n",
      "Requirement already satisfied: markdown-it-py>=2.2.0 in /opt/anaconda3/envs/mypython311/lib/python3.11/site-packages (from rich->keras>=3.2.0->tensorflow==2.17) (3.0.0)\n",
      "Requirement already satisfied: pygments<3.0.0,>=2.13.0 in /opt/anaconda3/envs/mypython311/lib/python3.11/site-packages (from rich->keras>=3.2.0->tensorflow==2.17) (2.18.0)\n",
      "Requirement already satisfied: mdurl~=0.1 in /opt/anaconda3/envs/mypython311/lib/python3.11/site-packages (from markdown-it-py>=2.2.0->rich->keras>=3.2.0->tensorflow==2.17) (0.1.2)\n",
      "Note: you may need to restart the kernel to use updated packages.\n"
     ]
    }
   ],
   "source": [
    "pip install tensorflow==2.17"
   ]
  },
  {
   "cell_type": "code",
   "execution_count": 3,
   "id": "7fc456b7-5d77-45e2-82b3-1b85e164571e",
   "metadata": {
    "scrolled": true
   },
   "outputs": [
    {
     "name": "stdout",
     "output_type": "stream",
     "text": [
      "Requirement already satisfied: tensorflow-metal in /opt/anaconda3/envs/mypython311/lib/python3.11/site-packages (1.1.0)\n",
      "Requirement already satisfied: wheel~=0.35 in /opt/anaconda3/envs/mypython311/lib/python3.11/site-packages (from tensorflow-metal) (0.44.0)\n",
      "Requirement already satisfied: six>=1.15.0 in /opt/anaconda3/envs/mypython311/lib/python3.11/site-packages (from tensorflow-metal) (1.17.0)\n",
      "Note: you may need to restart the kernel to use updated packages.\n"
     ]
    }
   ],
   "source": [
    "pip install tensorflow-metal"
   ]
  },
  {
   "cell_type": "code",
   "execution_count": 4,
   "id": "e404de9b-14a7-4dbd-84b9-0a6dabf7ee71",
   "metadata": {},
   "outputs": [],
   "source": [
    "import sys\n",
    "import tensorflow.keras\n",
    "import tensorflow as tf\n",
    "import platform"
   ]
  },
  {
   "cell_type": "code",
   "execution_count": 5,
   "id": "e269d524-8deb-4494-9c22-a104890dece0",
   "metadata": {},
   "outputs": [
    {
     "name": "stdout",
     "output_type": "stream",
     "text": [
      "[PhysicalDevice(name='/physical_device:CPU:0', device_type='CPU'), PhysicalDevice(name='/physical_device:GPU:0', device_type='GPU')]\n"
     ]
    }
   ],
   "source": [
    "print(tf.config.list_physical_devices())"
   ]
  },
  {
   "cell_type": "code",
   "execution_count": 6,
   "id": "ff62136a-b0b6-435a-8d5f-3d626ca050bc",
   "metadata": {},
   "outputs": [],
   "source": [
    "import pandas as pd\n",
    "import numpy as np\n",
    "import os\n",
    "import matplotlib.pyplot as plt\n",
    "import seaborn as sns\n",
    "\n",
    "from sklearn.model_selection import train_test_split, cross_val_score\n",
    "from sklearn.metrics import accuracy_score, confusion_matrix, precision_score, recall_score, f1_score, roc_auc_score, roc_curve, auc\n",
    "from sklearn.model_selection import GridSearchCV, StratifiedKFold, RandomizedSearchCV\n",
    "from tensorflow.keras import layers, models, regularizers, Sequential\n",
    "from tensorflow.keras.preprocessing import image_dataset_from_directory\n",
    "from tensorflow.keras.applications import ResNet50, ResNet101, VGG16, EfficientNetB0\n",
    "from tensorflow.keras.callbacks import EarlyStopping, LearningRateScheduler\n",
    "from collections import Counter\n",
    "from tensorflow.keras.applications.resnet50 import preprocess_input\n",
    "from tensorflow.keras.layers import BatchNormalization"
   ]
  },
  {
   "cell_type": "code",
   "execution_count": 7,
   "id": "8c66de02-488e-425d-98c9-5022f42c4bca",
   "metadata": {},
   "outputs": [],
   "source": [
    "# pip list"
   ]
  },
  {
   "cell_type": "markdown",
   "id": "efb30a6b-a97e-4392-9212-865a89f5d70f",
   "metadata": {},
   "source": [
    "## (a) (b) Data Exploration and Preprocessing"
   ]
  },
  {
   "cell_type": "code",
   "execution_count": 8,
   "id": "91d90060-fd27-4813-bb84-b8d2394f5d6d",
   "metadata": {},
   "outputs": [
    {
     "data": {
      "text/plain": [
       "'/Users/nandininag/Desktop/DSCI 552/final-project-nnag00/notebook'"
      ]
     },
     "execution_count": 8,
     "metadata": {},
     "output_type": "execute_result"
    }
   ],
   "source": [
    "os.getcwd()"
   ]
  },
  {
   "cell_type": "code",
   "execution_count": 9,
   "id": "d3357ee5-0d46-413c-96fc-cd9a346e4b1f",
   "metadata": {},
   "outputs": [],
   "source": [
    "training_path = \"../data/seg_train\"\n",
    "testing_path = \"../data/seg_test\""
   ]
  },
  {
   "cell_type": "code",
   "execution_count": 11,
   "id": "478a51aa-f171-4921-95f5-826ab7a88667",
   "metadata": {},
   "outputs": [
    {
     "name": "stdout",
     "output_type": "stream",
     "text": [
      "Found 14034 files belonging to 6 classes.\n",
      "Using 11228 files for training.\n",
      "Found 14034 files belonging to 6 classes.\n",
      "Using 2806 files for validation.\n"
     ]
    }
   ],
   "source": [
    "# generating training and validation datasets from directory\n",
    "training_dataset = image_dataset_from_directory(training_path, validation_split=0.2, \n",
    "                                                subset=\"training\", seed=123, \n",
    "                                                image_size=(224, 224),batch_size=32,\n",
    "                                               label_mode=\"categorical\")\n",
    "\n",
    "validation_dataset = image_dataset_from_directory(training_path, validation_split=0.2, \n",
    "                                                subset=\"validation\", seed=123, \n",
    "                                                image_size=(224, 224),batch_size=32,\n",
    "                                                 label_mode=\"categorical\")"
   ]
  },
  {
   "cell_type": "code",
   "execution_count": 12,
   "id": "dc422b9d-7bdc-4189-88e9-9e85bca6c10a",
   "metadata": {},
   "outputs": [
    {
     "name": "stdout",
     "output_type": "stream",
     "text": [
      "<class 'tensorflow.python.data.ops.prefetch_op._PrefetchDataset'>\n"
     ]
    }
   ],
   "source": [
    "print(type(training_dataset))"
   ]
  },
  {
   "cell_type": "code",
   "execution_count": 13,
   "id": "0e6a601d-3935-4359-8aed-3db946934db0",
   "metadata": {},
   "outputs": [
    {
     "name": "stdout",
     "output_type": "stream",
     "text": [
      "Found 3000 files belonging to 6 classes.\n"
     ]
    }
   ],
   "source": [
    "# generating testing dataset from directory\n",
    "testing_dataset = image_dataset_from_directory(testing_path, seed=123, image_size=(224, 224),\n",
    "                                               batch_size=32,label_mode=\"categorical\")"
   ]
  },
  {
   "cell_type": "code",
   "execution_count": 14,
   "id": "556a3055-04a3-4801-b12a-1c48f9d7cc48",
   "metadata": {},
   "outputs": [],
   "source": [
    "# normalize training dataset\n",
    "training_dataset = training_dataset.map(lambda x, y: (preprocess_input(x), y))\n",
    "\n",
    "# normalize validation dataset\n",
    "validation_dataset = validation_dataset.map(lambda x, y: (preprocess_input(x), y))\n",
    "\n",
    "# normalize testing dataset\n",
    "testing_dataset = testing_dataset.map(lambda x, y: (preprocess_input(x), y))"
   ]
  },
  {
   "cell_type": "code",
   "execution_count": 15,
   "id": "8fd4423d-e72b-4b71-9002-0ca75995a6d3",
   "metadata": {},
   "outputs": [],
   "source": [
    "# autotune performance optimization\n",
    "# caches data from first epoch\n",
    "# shuffles the samples\n",
    "# prefetches next batch while working on current\n",
    "\n",
    "autotune = tf.data.AUTOTUNE  \n",
    "training_dataset = training_dataset.cache().shuffle(buffer_size=1000, reshuffle_each_iteration=False).prefetch(buffer_size=autotune)\n",
    "\n",
    "validation_dataset = validation_dataset.cache().prefetch(buffer_size=autotune)"
   ]
  },
  {
   "cell_type": "code",
   "execution_count": 16,
   "id": "be8d0687-9de3-4535-8da7-9d08d2d93af3",
   "metadata": {},
   "outputs": [],
   "source": [
    "# augment training data as specified in part ii\n",
    "data_aug = Sequential([\n",
    "    layers.RandomFlip(\"horizontal_and_vertical\"),  # flips image vertically and horizontally\n",
    "    layers.RandomRotation(0.3),  # randomly rotates\n",
    "    layers.RandomZoom(0.2),  # randomly zooms\n",
    "    layers.RandomContrast(0.2), # randomly applies contrast\n",
    "    layers.RandomTranslation(height_factor=0.3, width_factor=0.3) # randomly shifts the image\n",
    "    ])\n",
    "\n",
    "# applies data augementation sequential model to each element of the training dataset\n",
    "# x is images and y is the class label\n",
    "# only applying to the images and only in the training phase\n",
    "# returns tuple of augmented image and original label\n",
    "\n",
    "training_dataset = training_dataset.map(lambda x, y: (data_aug(x, training=True), y))"
   ]
  },
  {
   "cell_type": "code",
   "execution_count": 17,
   "id": "3fd0fd4d-376b-4ef4-8f4d-0e811ea75948",
   "metadata": {
    "scrolled": true
   },
   "outputs": [
    {
     "name": "stderr",
     "output_type": "stream",
     "text": [
      "2024-12-15 14:28:09.914464: I tensorflow/core/grappler/optimizers/custom_graph_optimizer_registry.cc:117] Plugin optimizer for device_type GPU is enabled.\n"
     ]
    },
    {
     "name": "stdout",
     "output_type": "stream",
     "text": [
      "Batch 0:\n",
      "Image batch shape: (32, 224, 224, 3)\n",
      "Label batch: [[0. 0. 1. 0. 0. 0.]\n",
      " [1. 0. 0. 0. 0. 0.]\n",
      " [1. 0. 0. 0. 0. 0.]\n",
      " [0. 1. 0. 0. 0. 0.]\n",
      " [0. 0. 1. 0. 0. 0.]\n",
      " [0. 0. 0. 0. 1. 0.]\n",
      " [0. 0. 0. 0. 1. 0.]\n",
      " [0. 0. 1. 0. 0. 0.]\n",
      " [0. 0. 0. 1. 0. 0.]\n",
      " [0. 0. 0. 0. 1. 0.]\n",
      " [0. 1. 0. 0. 0. 0.]\n",
      " [0. 0. 1. 0. 0. 0.]\n",
      " [0. 0. 0. 0. 0. 1.]\n",
      " [1. 0. 0. 0. 0. 0.]\n",
      " [0. 0. 1. 0. 0. 0.]\n",
      " [1. 0. 0. 0. 0. 0.]\n",
      " [1. 0. 0. 0. 0. 0.]\n",
      " [0. 0. 1. 0. 0. 0.]\n",
      " [1. 0. 0. 0. 0. 0.]\n",
      " [1. 0. 0. 0. 0. 0.]\n",
      " [1. 0. 0. 0. 0. 0.]\n",
      " [1. 0. 0. 0. 0. 0.]\n",
      " [0. 0. 0. 1. 0. 0.]\n",
      " [0. 0. 0. 1. 0. 0.]\n",
      " [0. 0. 0. 0. 1. 0.]\n",
      " [0. 0. 0. 0. 1. 0.]\n",
      " [0. 0. 0. 1. 0. 0.]\n",
      " [1. 0. 0. 0. 0. 0.]\n",
      " [0. 0. 0. 0. 0. 1.]\n",
      " [0. 0. 1. 0. 0. 0.]\n",
      " [0. 0. 0. 0. 0. 1.]\n",
      " [0. 1. 0. 0. 0. 0.]]\n",
      "Batch 1:\n",
      "Image batch shape: (32, 224, 224, 3)\n",
      "Label batch: [[0. 1. 0. 0. 0. 0.]\n",
      " [0. 0. 1. 0. 0. 0.]\n",
      " [0. 0. 0. 0. 1. 0.]\n",
      " [0. 0. 0. 1. 0. 0.]\n",
      " [0. 0. 0. 0. 1. 0.]\n",
      " [0. 0. 1. 0. 0. 0.]\n",
      " [0. 1. 0. 0. 0. 0.]\n",
      " [0. 0. 0. 1. 0. 0.]\n",
      " [0. 0. 0. 0. 0. 1.]\n",
      " [0. 0. 0. 0. 0. 1.]\n",
      " [0. 0. 0. 1. 0. 0.]\n",
      " [0. 0. 1. 0. 0. 0.]\n",
      " [0. 0. 0. 1. 0. 0.]\n",
      " [0. 0. 0. 1. 0. 0.]\n",
      " [1. 0. 0. 0. 0. 0.]\n",
      " [0. 0. 0. 1. 0. 0.]\n",
      " [1. 0. 0. 0. 0. 0.]\n",
      " [0. 0. 0. 0. 0. 1.]\n",
      " [0. 0. 0. 1. 0. 0.]\n",
      " [0. 0. 0. 0. 1. 0.]\n",
      " [0. 0. 0. 0. 0. 1.]\n",
      " [0. 0. 1. 0. 0. 0.]\n",
      " [0. 1. 0. 0. 0. 0.]\n",
      " [0. 0. 1. 0. 0. 0.]\n",
      " [0. 0. 0. 0. 0. 1.]\n",
      " [0. 0. 0. 0. 1. 0.]\n",
      " [0. 0. 0. 1. 0. 0.]\n",
      " [0. 0. 0. 1. 0. 0.]\n",
      " [0. 0. 0. 0. 0. 1.]\n",
      " [0. 0. 0. 0. 1. 0.]\n",
      " [0. 1. 0. 0. 0. 0.]\n",
      " [1. 0. 0. 0. 0. 0.]]\n",
      "Batch 2:\n",
      "Image batch shape: (32, 224, 224, 3)\n",
      "Label batch: [[0. 0. 0. 0. 0. 1.]\n",
      " [1. 0. 0. 0. 0. 0.]\n",
      " [1. 0. 0. 0. 0. 0.]\n",
      " [0. 0. 1. 0. 0. 0.]\n",
      " [0. 0. 0. 1. 0. 0.]\n",
      " [0. 0. 1. 0. 0. 0.]\n",
      " [0. 0. 0. 0. 0. 1.]\n",
      " [0. 0. 0. 0. 1. 0.]\n",
      " [0. 0. 0. 1. 0. 0.]\n",
      " [0. 0. 0. 0. 1. 0.]\n",
      " [0. 0. 1. 0. 0. 0.]\n",
      " [0. 0. 0. 0. 0. 1.]\n",
      " [0. 0. 0. 0. 0. 1.]\n",
      " [0. 0. 0. 1. 0. 0.]\n",
      " [0. 1. 0. 0. 0. 0.]\n",
      " [0. 1. 0. 0. 0. 0.]\n",
      " [0. 0. 0. 0. 1. 0.]\n",
      " [0. 0. 1. 0. 0. 0.]\n",
      " [0. 0. 0. 1. 0. 0.]\n",
      " [0. 0. 0. 0. 1. 0.]\n",
      " [0. 0. 1. 0. 0. 0.]\n",
      " [0. 0. 0. 0. 0. 1.]\n",
      " [1. 0. 0. 0. 0. 0.]\n",
      " [1. 0. 0. 0. 0. 0.]\n",
      " [0. 0. 1. 0. 0. 0.]\n",
      " [0. 0. 0. 0. 1. 0.]\n",
      " [0. 0. 1. 0. 0. 0.]\n",
      " [0. 0. 0. 1. 0. 0.]\n",
      " [0. 1. 0. 0. 0. 0.]\n",
      " [0. 0. 0. 0. 1. 0.]\n",
      " [1. 0. 0. 0. 0. 0.]\n",
      " [1. 0. 0. 0. 0. 0.]]\n",
      "Batch 3:\n",
      "Image batch shape: (32, 224, 224, 3)\n",
      "Label batch: [[1. 0. 0. 0. 0. 0.]\n",
      " [0. 0. 0. 0. 0. 1.]\n",
      " [0. 0. 1. 0. 0. 0.]\n",
      " [0. 0. 0. 0. 0. 1.]\n",
      " [0. 0. 0. 1. 0. 0.]\n",
      " [0. 0. 0. 0. 0. 1.]\n",
      " [0. 0. 0. 1. 0. 0.]\n",
      " [0. 0. 0. 0. 0. 1.]\n",
      " [0. 1. 0. 0. 0. 0.]\n",
      " [1. 0. 0. 0. 0. 0.]\n",
      " [0. 0. 0. 0. 0. 1.]\n",
      " [1. 0. 0. 0. 0. 0.]\n",
      " [0. 0. 1. 0. 0. 0.]\n",
      " [0. 0. 0. 0. 1. 0.]\n",
      " [0. 0. 0. 1. 0. 0.]\n",
      " [0. 1. 0. 0. 0. 0.]\n",
      " [0. 0. 0. 1. 0. 0.]\n",
      " [0. 1. 0. 0. 0. 0.]\n",
      " [0. 0. 0. 1. 0. 0.]\n",
      " [1. 0. 0. 0. 0. 0.]\n",
      " [0. 0. 0. 1. 0. 0.]\n",
      " [0. 0. 0. 0. 0. 1.]\n",
      " [0. 1. 0. 0. 0. 0.]\n",
      " [0. 0. 1. 0. 0. 0.]\n",
      " [0. 0. 0. 0. 0. 1.]\n",
      " [0. 0. 1. 0. 0. 0.]\n",
      " [1. 0. 0. 0. 0. 0.]\n",
      " [0. 0. 0. 0. 1. 0.]\n",
      " [0. 0. 1. 0. 0. 0.]\n",
      " [0. 0. 0. 0. 0. 1.]\n",
      " [0. 0. 0. 0. 0. 1.]\n",
      " [0. 0. 0. 0. 1. 0.]]\n"
     ]
    },
    {
     "name": "stderr",
     "output_type": "stream",
     "text": [
      "2024-12-15 14:28:13.387800: I tensorflow/core/framework/local_rendezvous.cc:404] Local rendezvous is aborting with status: OUT_OF_RANGE: End of sequence\n"
     ]
    }
   ],
   "source": [
    "# looking at shape and labels of 4 batches\n",
    "for batch, (images, labels) in enumerate(training_dataset.take(4)):  \n",
    "    print(f\"Batch {batch}:\")\n",
    "    print(f\"Image batch shape: {images.shape}\")  \n",
    "    print(f\"Label batch: {labels.numpy()}\")"
   ]
  },
  {
   "cell_type": "markdown",
   "id": "90ebbd22-05a6-4f80-96ee-10352ae437d0",
   "metadata": {},
   "source": [
    "## (c) Transfer Learning"
   ]
  },
  {
   "cell_type": "markdown",
   "id": "5970e298-e86f-45aa-a9f0-6a708e4ff77c",
   "metadata": {},
   "source": [
    "### ResNet50"
   ]
  },
  {
   "cell_type": "code",
   "execution_count": 18,
   "id": "e2c00a16-b8b5-4b06-8654-6417db0265e4",
   "metadata": {},
   "outputs": [],
   "source": [
    "final_resnet50_results = {}"
   ]
  },
  {
   "cell_type": "code",
   "execution_count": 19,
   "id": "7a82fc38-52d8-4f8e-ab61-c7828387b1b3",
   "metadata": {},
   "outputs": [],
   "source": [
    "# initializing model\n",
    "resnet50_base = ResNet50(include_top=False, weights=\"imagenet\", \n",
    "                          input_shape=(224, 224, 3), name=\"resnet50\")\n",
    "\n",
    "# freezing base model\n",
    "for layer in resnet50_base.layers[:-1]:\n",
    "    layer.trainable = False\n",
    "\n",
    "resnet50_base.layers[-1].trainable = True\n",
    "\n",
    "# using Sequential model to add classifier\n",
    "resnet50_model = Sequential([resnet50_base,\n",
    "                             layers.GlobalAveragePooling2D(),  # flattens output\n",
    "                             layers.BatchNormalization(),\n",
    "                             layers.ReLU(),\n",
    "                             layers.Dense(256, kernel_regularizer=regularizers.l2(0.05)),  # add layer with L2 and ReLU activation\n",
    "                             layers.Dropout(0.5),  # dropout rate\n",
    "                             layers.Dense(128, activation=\"relu\"),\n",
    "                             layers.Dropout(0.2),  # trying different dropout rates for diff densities\n",
    "                             layers.Dense(6, activation=\"softmax\")  # softmax layer \n",
    "                            ])\n",
    "\n",
    "# implement early stopping; following documentation\n",
    "early_stopping = EarlyStopping(monitor=\"val_loss\",\n",
    "                               start_from_epoch=50,\n",
    "                               patience=10,\n",
    "                               min_delta=1e-4,\n",
    "                               restore_best_weights=True)\n",
    "\n",
    "# compile using ADAM\n",
    "resnet50_model.compile(optimizer=\"adam\",\n",
    "                       loss=\"categorical_crossentropy\",\n",
    "                       metrics=[\"accuracy\"])"
   ]
  },
  {
   "cell_type": "code",
   "execution_count": 20,
   "id": "b540df3f-8cf3-4423-8aed-cfb2148905bd",
   "metadata": {},
   "outputs": [],
   "source": [
    "# learning rate decay\n",
    "def custom_lr_scheduler(epoch, lr):\n",
    "    if epoch < 10:\n",
    "        return lr\n",
    "    else:\n",
    "        return float(lr * tf.math.exp(-0.1))\n",
    "\n",
    "lr_scheduler = LearningRateScheduler(custom_lr_scheduler)"
   ]
  },
  {
   "cell_type": "code",
   "execution_count": 21,
   "id": "3a1d8f28-dfe3-4cd7-a529-51983070abc4",
   "metadata": {
    "scrolled": true
   },
   "outputs": [
    {
     "name": "stdout",
     "output_type": "stream",
     "text": [
      "Epoch 1/50\n",
      "\u001b[1m351/351\u001b[0m \u001b[32m━━━━━━━━━━━━━━━━━━━━\u001b[0m\u001b[37m\u001b[0m \u001b[1m87s\u001b[0m 237ms/step - accuracy: 0.5604 - loss: 11.9558 - val_accuracy: 0.7609 - val_loss: 1.3416 - learning_rate: 0.0010\n",
      "Epoch 2/50\n",
      "\u001b[1m351/351\u001b[0m \u001b[32m━━━━━━━━━━━━━━━━━━━━\u001b[0m\u001b[37m\u001b[0m \u001b[1m103s\u001b[0m 291ms/step - accuracy: 0.6153 - loss: 1.9467 - val_accuracy: 0.7502 - val_loss: 1.0939 - learning_rate: 0.0010\n",
      "Epoch 3/50\n",
      "\u001b[1m351/351\u001b[0m \u001b[32m━━━━━━━━━━━━━━━━━━━━\u001b[0m\u001b[37m\u001b[0m \u001b[1m102s\u001b[0m 288ms/step - accuracy: 0.6408 - loss: 1.5167 - val_accuracy: 0.7591 - val_loss: 1.0049 - learning_rate: 0.0010\n",
      "Epoch 4/50\n",
      "\u001b[1m351/351\u001b[0m \u001b[32m━━━━━━━━━━━━━━━━━━━━\u001b[0m\u001b[37m\u001b[0m \u001b[1m101s\u001b[0m 287ms/step - accuracy: 0.6575 - loss: 1.3522 - val_accuracy: 0.8247 - val_loss: 0.8727 - learning_rate: 0.0010\n",
      "Epoch 5/50\n",
      "\u001b[1m351/351\u001b[0m \u001b[32m━━━━━━━━━━━━━━━━━━━━\u001b[0m\u001b[37m\u001b[0m \u001b[1m102s\u001b[0m 288ms/step - accuracy: 0.6647 - loss: 1.2757 - val_accuracy: 0.8197 - val_loss: 0.8621 - learning_rate: 0.0010\n",
      "Epoch 6/50\n",
      "\u001b[1m351/351\u001b[0m \u001b[32m━━━━━━━━━━━━━━━━━━━━\u001b[0m\u001b[37m\u001b[0m \u001b[1m103s\u001b[0m 292ms/step - accuracy: 0.6910 - loss: 1.1978 - val_accuracy: 0.7480 - val_loss: 0.9433 - learning_rate: 0.0010\n",
      "Epoch 7/50\n",
      "\u001b[1m351/351\u001b[0m \u001b[32m━━━━━━━━━━━━━━━━━━━━\u001b[0m\u001b[37m\u001b[0m \u001b[1m101s\u001b[0m 288ms/step - accuracy: 0.6815 - loss: 1.1986 - val_accuracy: 0.7341 - val_loss: 0.9987 - learning_rate: 0.0010\n",
      "Epoch 8/50\n",
      "\u001b[1m351/351\u001b[0m \u001b[32m━━━━━━━━━━━━━━━━━━━━\u001b[0m\u001b[37m\u001b[0m \u001b[1m100s\u001b[0m 282ms/step - accuracy: 0.6900 - loss: 1.1736 - val_accuracy: 0.7719 - val_loss: 0.8219 - learning_rate: 0.0010\n",
      "Epoch 9/50\n",
      "\u001b[1m351/351\u001b[0m \u001b[32m━━━━━━━━━━━━━━━━━━━━\u001b[0m\u001b[37m\u001b[0m \u001b[1m100s\u001b[0m 285ms/step - accuracy: 0.6981 - loss: 1.1177 - val_accuracy: 0.7192 - val_loss: 1.1342 - learning_rate: 0.0010\n",
      "Epoch 10/50\n",
      "\u001b[1m351/351\u001b[0m \u001b[32m━━━━━━━━━━━━━━━━━━━━\u001b[0m\u001b[37m\u001b[0m \u001b[1m100s\u001b[0m 283ms/step - accuracy: 0.6917 - loss: 1.1329 - val_accuracy: 0.7694 - val_loss: 0.8583 - learning_rate: 0.0010\n",
      "Epoch 11/50\n",
      "\u001b[1m351/351\u001b[0m \u001b[32m━━━━━━━━━━━━━━━━━━━━\u001b[0m\u001b[37m\u001b[0m \u001b[1m100s\u001b[0m 282ms/step - accuracy: 0.7155 - loss: 1.0801 - val_accuracy: 0.7758 - val_loss: 0.8731 - learning_rate: 9.0484e-04\n",
      "Epoch 12/50\n",
      "\u001b[1m351/351\u001b[0m \u001b[32m━━━━━━━━━━━━━━━━━━━━\u001b[0m\u001b[37m\u001b[0m \u001b[1m98s\u001b[0m 279ms/step - accuracy: 0.7223 - loss: 1.0308 - val_accuracy: 0.8222 - val_loss: 0.7037 - learning_rate: 8.1873e-04\n",
      "Epoch 13/50\n",
      "\u001b[1m351/351\u001b[0m \u001b[32m━━━━━━━━━━━━━━━━━━━━\u001b[0m\u001b[37m\u001b[0m \u001b[1m100s\u001b[0m 284ms/step - accuracy: 0.7193 - loss: 1.0004 - val_accuracy: 0.8218 - val_loss: 0.7356 - learning_rate: 7.4082e-04\n",
      "Epoch 14/50\n",
      "\u001b[1m351/351\u001b[0m \u001b[32m━━━━━━━━━━━━━━━━━━━━\u001b[0m\u001b[37m\u001b[0m \u001b[1m99s\u001b[0m 282ms/step - accuracy: 0.7316 - loss: 0.9750 - val_accuracy: 0.8257 - val_loss: 0.6992 - learning_rate: 6.7032e-04\n",
      "Epoch 15/50\n",
      "\u001b[1m351/351\u001b[0m \u001b[32m━━━━━━━━━━━━━━━━━━━━\u001b[0m\u001b[37m\u001b[0m \u001b[1m101s\u001b[0m 285ms/step - accuracy: 0.7377 - loss: 0.9344 - val_accuracy: 0.7733 - val_loss: 0.8129 - learning_rate: 6.0653e-04\n",
      "Epoch 16/50\n",
      "\u001b[1m351/351\u001b[0m \u001b[32m━━━━━━━━━━━━━━━━━━━━\u001b[0m\u001b[37m\u001b[0m \u001b[1m102s\u001b[0m 289ms/step - accuracy: 0.7428 - loss: 0.9344 - val_accuracy: 0.8011 - val_loss: 0.7376 - learning_rate: 5.4881e-04\n",
      "Epoch 17/50\n",
      "\u001b[1m351/351\u001b[0m \u001b[32m━━━━━━━━━━━━━━━━━━━━\u001b[0m\u001b[37m\u001b[0m \u001b[1m101s\u001b[0m 289ms/step - accuracy: 0.7385 - loss: 0.9061 - val_accuracy: 0.8001 - val_loss: 0.7025 - learning_rate: 4.9659e-04\n",
      "Epoch 18/50\n",
      "\u001b[1m351/351\u001b[0m \u001b[32m━━━━━━━━━━━━━━━━━━━━\u001b[0m\u001b[37m\u001b[0m \u001b[1m101s\u001b[0m 284ms/step - accuracy: 0.7516 - loss: 0.8739 - val_accuracy: 0.8382 - val_loss: 0.5947 - learning_rate: 4.4933e-04\n",
      "Epoch 19/50\n",
      "\u001b[1m351/351\u001b[0m \u001b[32m━━━━━━━━━━━━━━━━━━━━\u001b[0m\u001b[37m\u001b[0m \u001b[1m100s\u001b[0m 283ms/step - accuracy: 0.7483 - loss: 0.8547 - val_accuracy: 0.8314 - val_loss: 0.6498 - learning_rate: 4.0657e-04\n",
      "Epoch 20/50\n",
      "\u001b[1m351/351\u001b[0m \u001b[32m━━━━━━━━━━━━━━━━━━━━\u001b[0m\u001b[37m\u001b[0m \u001b[1m101s\u001b[0m 286ms/step - accuracy: 0.7564 - loss: 0.8378 - val_accuracy: 0.8272 - val_loss: 0.6080 - learning_rate: 3.6788e-04\n",
      "Epoch 21/50\n",
      "\u001b[1m351/351\u001b[0m \u001b[32m━━━━━━━━━━━━━━━━━━━━\u001b[0m\u001b[37m\u001b[0m \u001b[1m102s\u001b[0m 289ms/step - accuracy: 0.7535 - loss: 0.8252 - val_accuracy: 0.8250 - val_loss: 0.5941 - learning_rate: 3.3287e-04\n",
      "Epoch 22/50\n",
      "\u001b[1m351/351\u001b[0m \u001b[32m━━━━━━━━━━━━━━━━━━━━\u001b[0m\u001b[37m\u001b[0m \u001b[1m101s\u001b[0m 285ms/step - accuracy: 0.7579 - loss: 0.7844 - val_accuracy: 0.8560 - val_loss: 0.5215 - learning_rate: 3.0119e-04\n",
      "Epoch 23/50\n",
      "\u001b[1m351/351\u001b[0m \u001b[32m━━━━━━━━━━━━━━━━━━━━\u001b[0m\u001b[37m\u001b[0m \u001b[1m100s\u001b[0m 285ms/step - accuracy: 0.7639 - loss: 0.7718 - val_accuracy: 0.8403 - val_loss: 0.5074 - learning_rate: 2.7253e-04\n",
      "Epoch 24/50\n",
      "\u001b[1m351/351\u001b[0m \u001b[32m━━━━━━━━━━━━━━━━━━━━\u001b[0m\u001b[37m\u001b[0m \u001b[1m102s\u001b[0m 287ms/step - accuracy: 0.7633 - loss: 0.7771 - val_accuracy: 0.8268 - val_loss: 0.5776 - learning_rate: 2.4660e-04\n",
      "Epoch 25/50\n",
      "\u001b[1m351/351\u001b[0m \u001b[32m━━━━━━━━━━━━━━━━━━━━\u001b[0m\u001b[37m\u001b[0m \u001b[1m100s\u001b[0m 284ms/step - accuracy: 0.7712 - loss: 0.7429 - val_accuracy: 0.8482 - val_loss: 0.5196 - learning_rate: 2.2313e-04\n",
      "Epoch 26/50\n",
      "\u001b[1m351/351\u001b[0m \u001b[32m━━━━━━━━━━━━━━━━━━━━\u001b[0m\u001b[37m\u001b[0m \u001b[1m102s\u001b[0m 288ms/step - accuracy: 0.7725 - loss: 0.7296 - val_accuracy: 0.8510 - val_loss: 0.5225 - learning_rate: 2.0190e-04\n",
      "Epoch 27/50\n",
      "\u001b[1m351/351\u001b[0m \u001b[32m━━━━━━━━━━━━━━━━━━━━\u001b[0m\u001b[37m\u001b[0m \u001b[1m100s\u001b[0m 285ms/step - accuracy: 0.7739 - loss: 0.7125 - val_accuracy: 0.8646 - val_loss: 0.4682 - learning_rate: 1.8268e-04\n",
      "Epoch 28/50\n",
      "\u001b[1m351/351\u001b[0m \u001b[32m━━━━━━━━━━━━━━━━━━━━\u001b[0m\u001b[37m\u001b[0m \u001b[1m100s\u001b[0m 284ms/step - accuracy: 0.7737 - loss: 0.7086 - val_accuracy: 0.8535 - val_loss: 0.5013 - learning_rate: 1.6530e-04\n",
      "Epoch 29/50\n",
      "\u001b[1m351/351\u001b[0m \u001b[32m━━━━━━━━━━━━━━━━━━━━\u001b[0m\u001b[37m\u001b[0m \u001b[1m101s\u001b[0m 285ms/step - accuracy: 0.7777 - loss: 0.6996 - val_accuracy: 0.8592 - val_loss: 0.4772 - learning_rate: 1.4957e-04\n",
      "Epoch 30/50\n",
      "\u001b[1m351/351\u001b[0m \u001b[32m━━━━━━━━━━━━━━━━━━━━\u001b[0m\u001b[37m\u001b[0m \u001b[1m100s\u001b[0m 283ms/step - accuracy: 0.7862 - loss: 0.6795 - val_accuracy: 0.8421 - val_loss: 0.5077 - learning_rate: 1.3534e-04\n",
      "Epoch 31/50\n",
      "\u001b[1m351/351\u001b[0m \u001b[32m━━━━━━━━━━━━━━━━━━━━\u001b[0m\u001b[37m\u001b[0m \u001b[1m101s\u001b[0m 287ms/step - accuracy: 0.7810 - loss: 0.6723 - val_accuracy: 0.8646 - val_loss: 0.4342 - learning_rate: 1.2246e-04\n",
      "Epoch 32/50\n",
      "\u001b[1m351/351\u001b[0m \u001b[32m━━━━━━━━━━━━━━━━━━━━\u001b[0m\u001b[37m\u001b[0m \u001b[1m102s\u001b[0m 288ms/step - accuracy: 0.7825 - loss: 0.6676 - val_accuracy: 0.8639 - val_loss: 0.4534 - learning_rate: 1.1080e-04\n",
      "Epoch 33/50\n",
      "\u001b[1m351/351\u001b[0m \u001b[32m━━━━━━━━━━━━━━━━━━━━\u001b[0m\u001b[37m\u001b[0m \u001b[1m101s\u001b[0m 287ms/step - accuracy: 0.7856 - loss: 0.6583 - val_accuracy: 0.8574 - val_loss: 0.4480 - learning_rate: 1.0026e-04\n",
      "Epoch 34/50\n",
      "\u001b[1m351/351\u001b[0m \u001b[32m━━━━━━━━━━━━━━━━━━━━\u001b[0m\u001b[37m\u001b[0m \u001b[1m102s\u001b[0m 290ms/step - accuracy: 0.7947 - loss: 0.6475 - val_accuracy: 0.8418 - val_loss: 0.4903 - learning_rate: 9.0718e-05\n",
      "Epoch 35/50\n",
      "\u001b[1m351/351\u001b[0m \u001b[32m━━━━━━━━━━━━━━━━━━━━\u001b[0m\u001b[37m\u001b[0m \u001b[1m101s\u001b[0m 286ms/step - accuracy: 0.7880 - loss: 0.6391 - val_accuracy: 0.8767 - val_loss: 0.4122 - learning_rate: 8.2085e-05\n",
      "Epoch 36/50\n",
      "\u001b[1m351/351\u001b[0m \u001b[32m━━━━━━━━━━━━━━━━━━━━\u001b[0m\u001b[37m\u001b[0m \u001b[1m101s\u001b[0m 286ms/step - accuracy: 0.7920 - loss: 0.6358 - val_accuracy: 0.8553 - val_loss: 0.4586 - learning_rate: 7.4273e-05\n",
      "Epoch 37/50\n",
      "\u001b[1m351/351\u001b[0m \u001b[32m━━━━━━━━━━━━━━━━━━━━\u001b[0m\u001b[37m\u001b[0m \u001b[1m101s\u001b[0m 286ms/step - accuracy: 0.7942 - loss: 0.6306 - val_accuracy: 0.8671 - val_loss: 0.4383 - learning_rate: 6.7205e-05\n",
      "Epoch 38/50\n",
      "\u001b[1m351/351\u001b[0m \u001b[32m━━━━━━━━━━━━━━━━━━━━\u001b[0m\u001b[37m\u001b[0m \u001b[1m104s\u001b[0m 295ms/step - accuracy: 0.7903 - loss: 0.6250 - val_accuracy: 0.8767 - val_loss: 0.4118 - learning_rate: 6.0810e-05\n",
      "Epoch 39/50\n",
      "\u001b[1m351/351\u001b[0m \u001b[32m━━━━━━━━━━━━━━━━━━━━\u001b[0m\u001b[37m\u001b[0m \u001b[1m101s\u001b[0m 287ms/step - accuracy: 0.8008 - loss: 0.6072 - val_accuracy: 0.8703 - val_loss: 0.4167 - learning_rate: 5.5023e-05\n",
      "Epoch 40/50\n",
      "\u001b[1m351/351\u001b[0m \u001b[32m━━━━━━━━━━━━━━━━━━━━\u001b[0m\u001b[37m\u001b[0m \u001b[1m101s\u001b[0m 288ms/step - accuracy: 0.7910 - loss: 0.6050 - val_accuracy: 0.8592 - val_loss: 0.4372 - learning_rate: 4.9787e-05\n",
      "Epoch 41/50\n",
      "\u001b[1m351/351\u001b[0m \u001b[32m━━━━━━━━━━━━━━━━━━━━\u001b[0m\u001b[37m\u001b[0m \u001b[1m102s\u001b[0m 290ms/step - accuracy: 0.8018 - loss: 0.5983 - val_accuracy: 0.8635 - val_loss: 0.4349 - learning_rate: 4.5049e-05\n",
      "Epoch 42/50\n",
      "\u001b[1m351/351\u001b[0m \u001b[32m━━━━━━━━━━━━━━━━━━━━\u001b[0m\u001b[37m\u001b[0m \u001b[1m106s\u001b[0m 301ms/step - accuracy: 0.8009 - loss: 0.5977 - val_accuracy: 0.8713 - val_loss: 0.4029 - learning_rate: 4.0762e-05\n",
      "Epoch 43/50\n",
      "\u001b[1m351/351\u001b[0m \u001b[32m━━━━━━━━━━━━━━━━━━━━\u001b[0m\u001b[37m\u001b[0m \u001b[1m105s\u001b[0m 298ms/step - accuracy: 0.8093 - loss: 0.5882 - val_accuracy: 0.8770 - val_loss: 0.3917 - learning_rate: 3.6883e-05\n",
      "Epoch 44/50\n",
      "\u001b[1m351/351\u001b[0m \u001b[32m━━━━━━━━━━━━━━━━━━━━\u001b[0m\u001b[37m\u001b[0m \u001b[1m102s\u001b[0m 290ms/step - accuracy: 0.7977 - loss: 0.5932 - val_accuracy: 0.8770 - val_loss: 0.3875 - learning_rate: 3.3373e-05\n",
      "Epoch 45/50\n",
      "\u001b[1m351/351\u001b[0m \u001b[32m━━━━━━━━━━━━━━━━━━━━\u001b[0m\u001b[37m\u001b[0m \u001b[1m101s\u001b[0m 288ms/step - accuracy: 0.8059 - loss: 0.5811 - val_accuracy: 0.8792 - val_loss: 0.3875 - learning_rate: 3.0197e-05\n",
      "Epoch 46/50\n",
      "\u001b[1m351/351\u001b[0m \u001b[32m━━━━━━━━━━━━━━━━━━━━\u001b[0m\u001b[37m\u001b[0m \u001b[1m101s\u001b[0m 286ms/step - accuracy: 0.8036 - loss: 0.5755 - val_accuracy: 0.8753 - val_loss: 0.3877 - learning_rate: 2.7324e-05\n",
      "Epoch 47/50\n",
      "\u001b[1m351/351\u001b[0m \u001b[32m━━━━━━━━━━━━━━━━━━━━\u001b[0m\u001b[37m\u001b[0m \u001b[1m101s\u001b[0m 288ms/step - accuracy: 0.8030 - loss: 0.5799 - val_accuracy: 0.8749 - val_loss: 0.3827 - learning_rate: 2.4723e-05\n",
      "Epoch 48/50\n",
      "\u001b[1m351/351\u001b[0m \u001b[32m━━━━━━━━━━━━━━━━━━━━\u001b[0m\u001b[37m\u001b[0m \u001b[1m100s\u001b[0m 284ms/step - accuracy: 0.8073 - loss: 0.5758 - val_accuracy: 0.8724 - val_loss: 0.3868 - learning_rate: 2.2371e-05\n",
      "Epoch 49/50\n",
      "\u001b[1m351/351\u001b[0m \u001b[32m━━━━━━━━━━━━━━━━━━━━\u001b[0m\u001b[37m\u001b[0m \u001b[1m101s\u001b[0m 286ms/step - accuracy: 0.8070 - loss: 0.5689 - val_accuracy: 0.8767 - val_loss: 0.3778 - learning_rate: 2.0242e-05\n",
      "Epoch 50/50\n",
      "\u001b[1m351/351\u001b[0m \u001b[32m━━━━━━━━━━━━━━━━━━━━\u001b[0m\u001b[37m\u001b[0m \u001b[1m102s\u001b[0m 289ms/step - accuracy: 0.8138 - loss: 0.5643 - val_accuracy: 0.8774 - val_loss: 0.3772 - learning_rate: 1.8316e-05\n"
     ]
    }
   ],
   "source": [
    "# training the model\n",
    "resnet50_results = resnet50_model.fit(training_dataset,\n",
    "                   validation_data=validation_dataset,\n",
    "                   callbacks=[early_stopping, lr_scheduler],\n",
    "                   epochs=50)"
   ]
  },
  {
   "cell_type": "code",
   "execution_count": 22,
   "id": "e6c58821-46e6-4844-b9e3-8f1344342f65",
   "metadata": {},
   "outputs": [],
   "source": [
    "# metrics\n",
    "resnet50_dict = resnet50_results.history  # accessing history attribute through dictionary\n",
    "\n",
    "training_error = resnet50_dict[\"loss\"]\n",
    "val_error = resnet50_dict[\"val_loss\"]\n",
    "training_acc = resnet50_dict[\"accuracy\"]\n",
    "val_acc = resnet50_dict[\"val_accuracy\"]"
   ]
  },
  {
   "cell_type": "code",
   "execution_count": 23,
   "id": "9e8d5344-86dd-4103-919a-565f80909c58",
   "metadata": {},
   "outputs": [
    {
     "data": {
      "image/png": "[encoded data removed]",
      "text/plain": [
       "<Figure size 640x480 with 1 Axes>"
      ]
     },
     "metadata": {},
     "output_type": "display_data"
    }
   ],
   "source": [
    "# plot training and val errors vs. epochs\n",
    "plt.plot(training_error, label=\"Training Error\")\n",
    "plt.plot(val_error, label=\"Validation Error\")\n",
    "plt.xlabel(\"Number of Epochs\")\n",
    "plt.ylabel(\"Error\")\n",
    "plt.title(\"ResNet50: Training and Validation Errors\")\n",
    "plt.legend()\n",
    "plt.show()"
   ]
  },
  {
   "cell_type": "code",
   "execution_count": 24,
   "id": "0515c5fc-e1b6-400d-bd52-ec4aa4fdebd1",
   "metadata": {},
   "outputs": [
    {
     "data": {
      "image/png": "[encoded data removed]",
      "text/plain": [
       "<Figure size 640x480 with 1 Axes>"
      ]
     },
     "metadata": {},
     "output_type": "display_data"
    }
   ],
   "source": [
    "# plot accuracies\n",
    "plt.plot(training_acc, label=\"Training Accuracy\")\n",
    "plt.plot(val_acc, label=\"Validation Accuracy\")\n",
    "plt.xlabel(\"Number of Epochs\")\n",
    "plt.ylabel(\"Accuracy\")\n",
    "plt.title(\"ResNet50: Training and Validation Accuracies\")\n",
    "plt.legend()\n",
    "plt.show()"
   ]
  },
  {
   "cell_type": "code",
   "execution_count": 25,
   "id": "956b4113-01d2-465a-bcae-2e890781504d",
   "metadata": {},
   "outputs": [
    {
     "name": "stdout",
     "output_type": "stream",
     "text": [
      "\u001b[1m351/351\u001b[0m \u001b[32m━━━━━━━━━━━━━━━━━━━━\u001b[0m\u001b[37m\u001b[0m \u001b[1m87s\u001b[0m 238ms/step \n"
     ]
    },
    {
     "name": "stderr",
     "output_type": "stream",
     "text": [
      "2024-12-15 15:55:15.245287: I tensorflow/core/framework/local_rendezvous.cc:404] Local rendezvous is aborting with status: OUT_OF_RANGE: End of sequence\n"
     ]
    }
   ],
   "source": [
    "# training metrics\n",
    "\n",
    "# predict\n",
    "training_predict = resnet50_model.predict(training_dataset)\n",
    "\n",
    "# class labels\n",
    "training_predict_classes = np.argmax(training_predict, axis=1)\n",
    "\n",
    "# getting true labels and converting to numpy objects\n",
    "training_true = np.concatenate([y.numpy() for x, y in training_dataset])\n",
    "\n",
    "# reversing one hot encoding\n",
    "if training_true.ndim > 1:\n",
    "    training_true = np.argmax(training_true, axis=1)"
   ]
  },
  {
   "cell_type": "code",
   "execution_count": 26,
   "id": "753c4ce8-2cc2-4d61-a468-0e55740b942c",
   "metadata": {},
   "outputs": [],
   "source": [
    "training_accuracy = accuracy_score(training_true, training_predict_classes)\n",
    "training_precision = precision_score(training_true, training_predict_classes, average=\"weighted\")\n",
    "training_recall = recall_score(training_true, training_predict_classes, average=\"weighted\")\n",
    "training_f1 = f1_score(training_true, training_predict_classes, average=\"weighted\")\n",
    "training_auc = roc_auc_score(training_true, training_predict, multi_class=\"ovr\")\n",
    "\n",
    "final_resnet50_results[\"Training\"] = {\n",
    "    \"Accuracy\": training_accuracy,\n",
    "    \"Precision\": training_precision,\n",
    "    \"Recall\": training_recall,\n",
    "    \"F1 Score\": training_f1,\n",
    "    \"AUC\": training_auc}"
   ]
  },
  {
   "cell_type": "code",
   "execution_count": 27,
   "id": "98eabf38-12ec-49d5-b518-a012eacfdfb0",
   "metadata": {},
   "outputs": [
    {
     "name": "stdout",
     "output_type": "stream",
     "text": [
      "\u001b[1m88/88\u001b[0m \u001b[32m━━━━━━━━━━━━━━━━━━━━\u001b[0m\u001b[37m\u001b[0m \u001b[1m17s\u001b[0m 186ms/step\n"
     ]
    }
   ],
   "source": [
    "# validation metrics\n",
    "\n",
    "# predict\n",
    "val_predict = resnet50_model.predict(validation_dataset)\n",
    "\n",
    "# class labels\n",
    "val_predict_classes = np.argmax(val_predict, axis=1)\n",
    "\n",
    "# getting true labels and converting to numpy objects\n",
    "validation_true = np.concatenate([y.numpy() for x, y in validation_dataset])\n",
    "\n",
    "# reversing one hot encoding\n",
    "if validation_true.ndim > 1:\n",
    "    validation_true = np.argmax(validation_true, axis=1)"
   ]
  },
  {
   "cell_type": "code",
   "execution_count": 28,
   "id": "bdcb0ee9-7797-4491-a3a8-5c4a7193c875",
   "metadata": {},
   "outputs": [],
   "source": [
    "validation_accuracy = accuracy_score(validation_true, val_predict_classes)\n",
    "validation_precision = precision_score(validation_true, val_predict_classes, average=\"weighted\")\n",
    "validation_recall = recall_score(validation_true, val_predict_classes, average=\"weighted\")\n",
    "validation_f1 = f1_score(validation_true, val_predict_classes, average=\"weighted\")\n",
    "validation_auc = roc_auc_score(validation_true, val_predict, multi_class=\"ovr\")\n",
    "\n",
    "final_resnet50_results[\"Validation\"] = {\n",
    "    \"Accuracy\": validation_accuracy,\n",
    "    \"Precision\": validation_precision,\n",
    "    \"Recall\": validation_recall,\n",
    "    \"F1 Score\": validation_f1,\n",
    "    \"AUC\": validation_auc}"
   ]
  },
  {
   "cell_type": "code",
   "execution_count": 29,
   "id": "0e69fb85-640d-4915-b8dc-ac46569c2177",
   "metadata": {},
   "outputs": [
    {
     "name": "stdout",
     "output_type": "stream",
     "text": [
      "\u001b[1m94/94\u001b[0m \u001b[32m━━━━━━━━━━━━━━━━━━━━\u001b[0m\u001b[37m\u001b[0m \u001b[1m12s\u001b[0m 125ms/step\n"
     ]
    },
    {
     "name": "stderr",
     "output_type": "stream",
     "text": [
      "2024-12-15 15:55:57.091922: I tensorflow/core/framework/local_rendezvous.cc:404] Local rendezvous is aborting with status: OUT_OF_RANGE: End of sequence\n"
     ]
    }
   ],
   "source": [
    "# testing metrics\n",
    "\n",
    "# predict\n",
    "testing_predict = resnet50_model.predict(testing_dataset)\n",
    "\n",
    "# class labels\n",
    "testing_predict_classes = np.argmax(testing_predict, axis=1)\n",
    "\n",
    "# getting true labels and converting to numpy objects\n",
    "testing_true = np.concatenate([y.numpy() for x, y in testing_dataset])\n",
    "\n",
    "# reversing one hot encoding\n",
    "if testing_true.ndim > 1:\n",
    "    testing_true = np.argmax(testing_true, axis=1)"
   ]
  },
  {
   "cell_type": "code",
   "execution_count": 30,
   "id": "3ac30f52-2454-48ad-b5ec-79f965af5b94",
   "metadata": {},
   "outputs": [],
   "source": [
    "testing_accuracy = accuracy_score(testing_true, testing_predict_classes)\n",
    "testing_precision = precision_score(testing_true, testing_predict_classes, average=\"weighted\")\n",
    "testing_recall = recall_score(testing_true, testing_predict_classes, average=\"weighted\")\n",
    "testing_f1 = f1_score(testing_true, testing_predict_classes, average=\"weighted\")\n",
    "testing_auc = roc_auc_score(testing_true, testing_predict, multi_class=\"ovr\")\n",
    "\n",
    "final_resnet50_results[\"Testing\"] = {\n",
    "    \"Accuracy\": testing_accuracy,\n",
    "    \"Precision\": testing_precision,\n",
    "    \"Recall\": testing_recall,\n",
    "    \"F1 Score\": testing_f1,\n",
    "    \"AUC\": testing_auc}"
   ]
  },
  {
   "cell_type": "code",
   "execution_count": 31,
   "id": "8c65228e-baef-4fd8-8ea3-e9a7e9879471",
   "metadata": {},
   "outputs": [
    {
     "data": {
      "text/html": [
       "<div>\n",
       "<style scoped>\n",
       "    .dataframe tbody tr th:only-of-type {\n",
       "        vertical-align: middle;\n",
       "    }\n",
       "\n",
       "    .dataframe tbody tr th {\n",
       "        vertical-align: top;\n",
       "    }\n",
       "\n",
       "    .dataframe thead th {\n",
       "        text-align: right;\n",
       "    }\n",
       "</style>\n",
       "<table border=\"1\" class=\"dataframe\">\n",
       "  <thead>\n",
       "    <tr style=\"text-align: right;\">\n",
       "      <th></th>\n",
       "      <th>Accuracy</th>\n",
       "      <th>Precision</th>\n",
       "      <th>Recall</th>\n",
       "      <th>F1 Score</th>\n",
       "      <th>AUC</th>\n",
       "    </tr>\n",
       "  </thead>\n",
       "  <tbody>\n",
       "    <tr>\n",
       "      <th>Training</th>\n",
       "      <td>0.826327</td>\n",
       "      <td>0.828189</td>\n",
       "      <td>0.826327</td>\n",
       "      <td>0.825839</td>\n",
       "      <td>0.975390</td>\n",
       "    </tr>\n",
       "    <tr>\n",
       "      <th>Validation</th>\n",
       "      <td>0.877406</td>\n",
       "      <td>0.879186</td>\n",
       "      <td>0.877406</td>\n",
       "      <td>0.876386</td>\n",
       "      <td>0.985939</td>\n",
       "    </tr>\n",
       "    <tr>\n",
       "      <th>Testing</th>\n",
       "      <td>0.176667</td>\n",
       "      <td>0.176154</td>\n",
       "      <td>0.176667</td>\n",
       "      <td>0.175888</td>\n",
       "      <td>0.501737</td>\n",
       "    </tr>\n",
       "  </tbody>\n",
       "</table>\n",
       "</div>"
      ],
      "text/plain": [
       "            Accuracy  Precision    Recall  F1 Score       AUC\n",
       "Training    0.826327   0.828189  0.826327  0.825839  0.975390\n",
       "Validation  0.877406   0.879186  0.877406  0.876386  0.985939\n",
       "Testing     0.176667   0.176154  0.176667  0.175888  0.501737"
      ]
     },
     "metadata": {},
     "output_type": "display_data"
    }
   ],
   "source": [
    "df_final_resnet50_results = pd.DataFrame(final_resnet50_results).transpose()\n",
    "display(df_final_resnet50_results)"
   ]
  },
  {
   "cell_type": "markdown",
   "id": "c708e99d-9694-449a-a22e-44877f17b0fb",
   "metadata": {},
   "source": [
    "## ResNet 101"
   ]
  },
  {
   "cell_type": "markdown",
   "id": "a16ec719-fd7f-46a0-827b-ceb8d0d5adcf",
   "metadata": {},
   "source": [
    "According to Piazza post @1133, we should use ResNet101 instead of ResNet100. ResNet50 and ResNet101 are quite similar except that ResNet101 has 101 layers, while ResNet50 has 50 layers. The code will be very similar."
   ]
  },
  {
   "cell_type": "code",
   "execution_count": null,
   "id": "c3d0f2b4-34fc-4c73-aa59-c660a019c8bc",
   "metadata": {},
   "outputs": [],
   "source": [
    "final_resnet101_results = {}"
   ]
  },
  {
   "cell_type": "code",
   "execution_count": null,
   "id": "096bfebb-a317-4817-8cf8-abbdb236e436",
   "metadata": {},
   "outputs": [],
   "source": [
    "# initializing model\n",
    "resnet101_base = ResNet101(include_top=False, weights=\"imagenet\", \n",
    "                          input_shape=(224, 224, 3))\n",
    "\n",
    "# freezing base model\n",
    "resnet101_base.trainable = False\n",
    "\n",
    "# using Sequential model to add classifier\n",
    "resnet101_model = Sequential([resnet101_base,\n",
    "                             layers.GlobalAveragePooling2D(),  # flattens output\n",
    "                             layers.Dense(256, activation=\"relu\", kernel_regularizer=regularizers.l2(0.01)),  # add layer with L2 and ReLU activation\n",
    "                             layers.Dropout(0.2),  # dropout rate\n",
    "                             layers.Dense(6, activation=\"softmax\")  # softmax layer \n",
    "                            ])\n",
    "\n",
    "# implement early stopping; following documentation\n",
    "early_stopping_101 = EarlyStopping(monitor=\"val_loss\",\n",
    "                               start_from_epoch=50,\n",
    "                               patience=10,\n",
    "                               min_delta=1e-4,\n",
    "                               restore_best_weights=True)\n",
    "\n",
    "# compile using ADAM\n",
    "resnet101_model.compile(optimizer=\"adam\",\n",
    "                       loss=\"categorical_crossentropy\",\n",
    "                       metrics=[\"accuracy\"])"
   ]
  },
  {
   "cell_type": "code",
   "execution_count": null,
   "id": "8db49af3-7533-4dd3-b352-4a7481f25582",
   "metadata": {
    "scrolled": true
   },
   "outputs": [],
   "source": [
    "# training the model\n",
    "resnet101_results = resnet101_model.fit(training_dataset,\n",
    "                   validation_data=validation_dataset,\n",
    "                   callbacks=[early_stopping_101, lr_scheduler],\n",
    "                   epochs=50)"
   ]
  },
  {
   "cell_type": "code",
   "execution_count": null,
   "id": "991e1853-3bed-47de-86c6-109d12b6ef07",
   "metadata": {},
   "outputs": [],
   "source": [
    "# metrics\n",
    "resnet101_dict = resnet101_results.history  # accessing history attribute through dictionary\n",
    "\n",
    "training_error_101 = resnet101_dict[\"loss\"]\n",
    "val_error_101 = resnet101_dict[\"val_loss\"]\n",
    "training_acc_101 = resnet101_dict[\"accuracy\"]\n",
    "val_acc_101 = resnet101_dict[\"val_accuracy\"]"
   ]
  },
  {
   "cell_type": "code",
   "execution_count": null,
   "id": "4c04dcbe-d7ac-4731-9637-62af22cc6cb6",
   "metadata": {},
   "outputs": [],
   "source": [
    "# plot training and val errors vs. epochs\n",
    "plt.plot(training_error_101, label=\"Training Error\")\n",
    "plt.plot(val_error_101, label=\"Validation Error\")\n",
    "plt.xlabel(\"Number of Epochs\")\n",
    "plt.ylabel(\"Error\")\n",
    "plt.title(\"ResNet101: Training and Validation Errors\")\n",
    "plt.legend()\n",
    "plt.show()"
   ]
  },
  {
   "cell_type": "code",
   "execution_count": null,
   "id": "cda3cb97-5c64-41ba-b149-4f0261dec5b1",
   "metadata": {},
   "outputs": [],
   "source": [
    "# plot accuracies\n",
    "plt.plot(training_acc_101, label=\"Training Accuracy\")\n",
    "plt.plot(val_acc_101, label=\"Validation Accuracy\")\n",
    "plt.xlabel(\"Number of Epochs\")\n",
    "plt.ylabel(\"Accuracy\")\n",
    "plt.title(\"ResNet101: Training and Validation Accuracies\")\n",
    "plt.legend()\n",
    "plt.show()"
   ]
  },
  {
   "cell_type": "code",
   "execution_count": null,
   "id": "f9d32697-a835-4d6a-a79b-8726614337b2",
   "metadata": {},
   "outputs": [],
   "source": [
    "# training metrics\n",
    "\n",
    "# predict\n",
    "training_predict_101 = resnet101_model.predict(training_dataset)\n",
    "\n",
    "# class labels\n",
    "training_predict_classes_101 = np.argmax(training_predict_101, axis=1)\n",
    "\n",
    "# getting true labels and converting to numpy objects\n",
    "training_true_101 = np.concatenate([y.numpy() for x, y in training_dataset])\n",
    "\n",
    "# reversing one hot encoding\n",
    "if training_true_101.ndim > 1:\n",
    "    training_true_101 = np.argmax(training_true_101, axis=1)"
   ]
  },
  {
   "cell_type": "code",
   "execution_count": null,
   "id": "36ff338b-384b-47ad-bcbe-24e4046c973b",
   "metadata": {},
   "outputs": [],
   "source": [
    "training_accuracy_101 = accuracy_score(training_true_101, training_predict_classes_101)\n",
    "training_precision_101 = precision_score(training_true_101, training_predict_classes_101, average=\"weighted\")\n",
    "training_recall_101 = recall_score(training_true_101, training_predict_classes_101, average=\"weighted\")\n",
    "training_f1_101 = f1_score(training_true_101, training_predict_classes_101, average=\"weighted\")\n",
    "training_auc_101 = roc_auc_score(training_true_101, training_predict_101, multi_class=\"ovr\")\n",
    "\n",
    "final_resnet101_results[\"Training\"] = {\n",
    "    \"Accuracy\": training_accuracy_101,\n",
    "    \"Precision\": training_precision_101,\n",
    "    \"Recall\": training_recall_101,\n",
    "    \"F1 Score\": training_f1_101,\n",
    "    \"AUC\": training_auc_101}"
   ]
  },
  {
   "cell_type": "code",
   "execution_count": null,
   "id": "abb3f97b-8a9f-432a-a41c-909946b90677",
   "metadata": {},
   "outputs": [],
   "source": [
    "# validation metrics\n",
    "\n",
    "# predict\n",
    "validation_predict_101 = resnet101_model.predict(validation_dataset)\n",
    "\n",
    "# class labels\n",
    "val_predict_classes_101 = np.argmax(validation_predict_101, axis=1)\n",
    "\n",
    "# getting true labels and converting to numpy objects\n",
    "validation_true_101 = np.concatenate([y.numpy() for x, y in validation_dataset])\n",
    "\n",
    "# reversing one hot encoding\n",
    "if validation_true_101.ndim > 1:\n",
    "    validation_true_101 = np.argmax(validation_true_101, axis=1)"
   ]
  },
  {
   "cell_type": "code",
   "execution_count": null,
   "id": "a35f3a4e-86b0-4d7d-8c6a-2e4edf5c0c30",
   "metadata": {},
   "outputs": [],
   "source": [
    "validation_accuracy_101 = accuracy_score(validation_true_101, val_predict_classes_101)\n",
    "validation_precision_101 = precision_score(validation_true_101, val_predict_classes_101, average=\"weighted\")\n",
    "validation_recall_101 = recall_score(validation_true_101, val_predict_classes_101, average=\"weighted\")\n",
    "validation_f1_101 = f1_score(validation_true_101, val_predict_classes_101, average=\"weighted\")\n",
    "validation_auc_101 = roc_auc_score(validation_true_101, validation_predict_101, multi_class=\"ovr\")\n",
    "\n",
    "final_resnet101_results[\"Validation\"] = {\n",
    "    \"Accuracy\": validation_accuracy_101,\n",
    "    \"Precision\": validation_precision_101,\n",
    "    \"Recall\": validation_recall_101,\n",
    "    \"F1 Score\": validation_f1_101,\n",
    "    \"AUC\": validation_auc_101}"
   ]
  },
  {
   "cell_type": "code",
   "execution_count": null,
   "id": "b3d44256-aaf5-4964-a53a-58c17019ca32",
   "metadata": {},
   "outputs": [],
   "source": [
    "# testing metrics\n",
    "\n",
    "# predict\n",
    "testing_predict_101 = resnet101_model.predict(testing_dataset)\n",
    "\n",
    "# class labels\n",
    "testing_predict_classes_101 = np.argmax(testing_predict_101, axis=1)\n",
    "\n",
    "# getting true labels and converting to numpy objects\n",
    "testing_true_101 = np.concatenate([y.numpy() for x, y in testing_dataset])\n",
    "\n",
    "# reversing one hot encoding\n",
    "if testing_true_101.ndim > 1:\n",
    "    testing_true_101 = np.argmax(testing_true_101, axis=1)"
   ]
  },
  {
   "cell_type": "code",
   "execution_count": null,
   "id": "b8d321de-5455-44f1-8e60-c9d4b82c3fd6",
   "metadata": {},
   "outputs": [],
   "source": [
    "testing_accuracy_101 = accuracy_score(testing_true_101, testing_predict_classes_101)\n",
    "testing_precision_101 = precision_score(testing_true_101, testing_predict_classes_101, average=\"weighted\")\n",
    "testing_recall_101 = recall_score(testing_true_101, testing_predict_classes_101, average=\"weighted\")\n",
    "testing_f1_101 = f1_score(testing_true_101, testing_predict_classes_101, average=\"weighted\")\n",
    "testing_auc_101 = roc_auc_score(testing_true_101, testing_predict_101, multi_class=\"ovr\")\n",
    "\n",
    "final_resnet101_results[\"Testing\"] = {\n",
    "    \"Accuracy\": testing_accuracy_101,\n",
    "    \"Precision\": testing_precision_101,\n",
    "    \"Recall\": testing_recall_101,\n",
    "    \"F1 Score\": testing_f1_101,\n",
    "    \"AUC\": testing_auc_101}"
   ]
  },
  {
   "cell_type": "code",
   "execution_count": null,
   "id": "0ffb2b82-ad3e-4b64-97f4-e9f2b934d190",
   "metadata": {},
   "outputs": [],
   "source": [
    "df_final_resnet101_results = pd.DataFrame(final_resnet101_results).transpose()\n",
    "display(df_final_resnet101_results)"
   ]
  },
  {
   "cell_type": "code",
   "execution_count": null,
   "id": "2a1b5e8b-e8ba-4177-be30-b63b50dbbb31",
   "metadata": {},
   "outputs": [],
   "source": [
    "# class distribution\n",
    "print(\"Training class distribution:\", Counter(training_true))\n",
    "print(\"Validation class distribution:\", Counter(validation_true))\n",
    "print(\"Testing class distribution:\", Counter(testing_true))"
   ]
  },
  {
   "cell_type": "code",
   "execution_count": null,
   "id": "4f180629-4e43-4725-957a-45fd99fba251",
   "metadata": {},
   "outputs": [],
   "source": [
    "# checking for data leakage\n",
    "train_file_paths = [str(file.numpy()) for file, _ in training_dataset.unbatch()]\n",
    "val_file_paths = [str(file.numpy()) for file, _ in validation_dataset.unbatch()]\n",
    "\n",
    "# Check for overlaps\n",
    "overlap = set(train_file_paths) & set(val_file_paths)\n",
    "print(\"Overlap:\", overlap)"
   ]
  },
  {
   "cell_type": "markdown",
   "id": "89f8f28d-5b38-400c-9629-3bcb532cebea",
   "metadata": {},
   "source": [
    "## EfficientNetB0"
   ]
  },
  {
   "cell_type": "code",
   "execution_count": null,
   "id": "056bb6fb-be1a-42f3-8341-d599a0ce2fee",
   "metadata": {},
   "outputs": [],
   "source": [
    "final_efficient_net_results = {}"
   ]
  },
  {
   "cell_type": "code",
   "execution_count": null,
   "id": "33565c4d-ccbe-4ce5-9757-35808ccc45de",
   "metadata": {},
   "outputs": [],
   "source": [
    "# initializing model\n",
    "efficient_base = EfficientNetB0(include_top=False, weights=\"imagenet\", \n",
    "                          input_shape=(224, 224, 3))\n",
    "\n",
    "# freezing base model\n",
    "efficient_base.trainable = False\n",
    "\n",
    "# using Sequential model to add classifier\n",
    "efficient_model = Sequential([efficient_base,\n",
    "                              layers.GlobalAveragePooling2D(), \n",
    "                              layers.BatchNormalization(),\n",
    "                              layers.ReLU(),\n",
    "                              layers.Dense(256, kernel_regularizer=regularizers.L2(0.05)),  \n",
    "                              layers.Dropout(0.2),  # dropout rate\n",
    "                              layers.Dense(6, activation=\"softmax\")   \n",
    "                            ])\n",
    "\n",
    "# implement early stopping; following documentation\n",
    "early_stopping_efficient = EarlyStopping(monitor=\"val_loss\",\n",
    "                               start_from_epoch=50,\n",
    "                               patience=10,\n",
    "                               min_delta=1e-4,\n",
    "                               restore_best_weights=True)\n",
    "\n",
    "# compile using ADAM\n",
    "efficient_model.compile(optimizer=\"adam\",\n",
    "                       loss=\"categorical_crossentropy\",\n",
    "                       metrics=[\"accuracy\"])"
   ]
  },
  {
   "cell_type": "code",
   "execution_count": null,
   "id": "8152ee7d-b1cb-4a43-945a-1cc71d40aaad",
   "metadata": {
    "scrolled": true
   },
   "outputs": [],
   "source": [
    "# training the model\n",
    "efficient_results = efficient_model.fit(training_dataset,\n",
    "                   validation_data=validation_dataset,\n",
    "                   callbacks=[early_stopping_efficient, lr_scheduler],\n",
    "                   epochs=50)"
   ]
  },
  {
   "cell_type": "code",
   "execution_count": null,
   "id": "bbfdcba3-e5bd-4047-a770-ce357a836c18",
   "metadata": {},
   "outputs": [],
   "source": [
    "# metrics\n",
    "efficient_dict = efficient_results.history \n",
    "\n",
    "training_error_efficient = efficient_dict[\"loss\"]\n",
    "val_error_efficient = efficient_dict[\"val_loss\"]\n",
    "training_acc_efficient = efficient_dict[\"accuracy\"]\n",
    "val_acc_efficient = efficient_dict[\"val_accuracy\"]"
   ]
  },
  {
   "cell_type": "code",
   "execution_count": null,
   "id": "cb56536d-39ef-403c-a0db-0f95c7657f5d",
   "metadata": {},
   "outputs": [],
   "source": [
    "# plot training and val errors vs. epochs\n",
    "plt.plot(training_error_efficient, label=\"Training Error\")\n",
    "plt.plot(val_error_efficient, label=\"Validation Error\")\n",
    "plt.xlabel(\"Number of Epochs\")\n",
    "plt.ylabel(\"Error\")\n",
    "plt.title(\"EfficientNetB0: Training and Validation Errors\")\n",
    "plt.legend()\n",
    "plt.show()"
   ]
  },
  {
   "cell_type": "code",
   "execution_count": null,
   "id": "7f4a0874-da84-4d63-91a8-c9a9920091fa",
   "metadata": {},
   "outputs": [],
   "source": [
    "# plot accuracies\n",
    "plt.plot(training_acc_efficient, label=\"Training Accuracy\")\n",
    "plt.plot(val_acc_efficient, label=\"Validation Accuracy\")\n",
    "plt.xlabel(\"Number of Epochs\")\n",
    "plt.ylabel(\"Accuracy\")\n",
    "plt.title(\"EfficientNetB0: Training and Validation Accuracies\")\n",
    "plt.legend()\n",
    "plt.show()"
   ]
  },
  {
   "cell_type": "code",
   "execution_count": null,
   "id": "ef05b794-25c7-4d0f-8271-095d4f2b95b6",
   "metadata": {},
   "outputs": [],
   "source": [
    "# training metrics\n",
    "\n",
    "# predict\n",
    "training_predict_efficient = efficient_model.predict(training_dataset)\n",
    "\n",
    "# class labels\n",
    "training_predict_classes_efficient = np.argmax(training_predict_efficient, axis=1)\n",
    "\n",
    "# getting true labels and converting to numpy objects\n",
    "training_true_efficient = np.concatenate([y.numpy() for x, y in training_dataset])\n",
    "\n",
    "# reversing one hot encoding\n",
    "if training_true_efficient.ndim > 1:\n",
    "    training_true_efficient = np.argmax(training_true_efficient, axis=1)"
   ]
  },
  {
   "cell_type": "code",
   "execution_count": null,
   "id": "17219041-0dbf-49d6-a663-011ea9db9f90",
   "metadata": {},
   "outputs": [],
   "source": [
    "training_accuracy_efficient = accuracy_score(training_true_efficient, training_predict_classes_efficient)\n",
    "training_precision_efficient = precision_score(training_true_efficient, training_predict_classes_efficient, average=\"weighted\")\n",
    "training_recall_efficient = recall_score(training_true_efficient, training_predict_classes_efficient, average=\"weighted\")\n",
    "training_f1_efficient = f1_score(training_true_efficient, training_predict_classes_efficient, average=\"weighted\")\n",
    "training_auc_efficient = roc_auc_score(training_true_efficient, training_predict_efficient, multi_class=\"ovr\")\n",
    "\n",
    "final_efficient_net_results[\"Training\"] = {\n",
    "    \"Accuracy\": training_accuracy_efficient,\n",
    "    \"Precision\": training_precision_efficient,\n",
    "    \"Recall\": training_recall_efficient,\n",
    "    \"F1 Score\": training_f1_efficient,\n",
    "    \"AUC\": training_auc_efficient}"
   ]
  },
  {
   "cell_type": "code",
   "execution_count": null,
   "id": "c9264f9d-da04-4613-b672-957c03de1541",
   "metadata": {},
   "outputs": [],
   "source": [
    "# validation metrics\n",
    "\n",
    "# predict\n",
    "validation_predict_efficient = efficient_model.predict(validation_dataset)\n",
    "\n",
    "# class labels\n",
    "val_predict_classes_efficient = np.argmax(validation_predict_efficient, axis=1)\n",
    "\n",
    "# getting true labels and converting to numpy objects\n",
    "validation_true_efficient = np.concatenate([y.numpy() for x, y in validation_dataset])\n",
    "\n",
    "# reversing one hot encoding\n",
    "if validation_true_efficient.ndim > 1:\n",
    "    validation_true_efficient = np.argmax(validation_true_efficient, axis=1)"
   ]
  },
  {
   "cell_type": "code",
   "execution_count": null,
   "id": "3049ff1c-de78-465a-acdf-d49636daebad",
   "metadata": {},
   "outputs": [],
   "source": [
    "validation_accuracy_efficient = accuracy_score(validation_true_efficient, val_predict_classes_efficient)\n",
    "validation_precision_efficient = precision_score(validation_true_efficient, val_predict_classes_efficient, average=\"weighted\")\n",
    "validation_recall_efficient = recall_score(validation_true_efficient, val_predict_classes_efficient, average=\"weighted\")\n",
    "validation_f1_efficient = f1_score(validation_true_efficient, val_predict_classes_efficient, average=\"weighted\")\n",
    "validation_auc_efficient = roc_auc_score(validation_true_efficient, validation_predict_efficient, multi_class=\"ovr\")\n",
    "\n",
    "final_efficient_net_results[\"Validation\"] = {\n",
    "    \"Accuracy\": validation_accuracy_efficient,\n",
    "    \"Precision\": validation_precision_efficient,\n",
    "    \"Recall\": validation_recall_efficient,\n",
    "    \"F1 Score\": validation_f1_efficient,\n",
    "    \"AUC\": validation_auc_efficient}"
   ]
  },
  {
   "cell_type": "code",
   "execution_count": null,
   "id": "f20adadd-bab0-43ae-8071-641c2f11c2ca",
   "metadata": {},
   "outputs": [],
   "source": [
    "# testing metrics\n",
    "\n",
    "# predict\n",
    "testing_predict_efficient = efficient_model.predict(testing_dataset)\n",
    "\n",
    "# class labels\n",
    "testing_predict_classes_efficient = np.argmax(testing_predict_efficient, axis=1)\n",
    "\n",
    "# getting true labels and converting to numpy objects\n",
    "testing_true_efficient = np.concatenate([y.numpy() for x, y in testing_dataset])\n",
    "\n",
    "# reversing one hot encoding\n",
    "if testing_true_efficient.ndim > 1:\n",
    "    testing_true_efficient = np.argmax(testing_true_efficient, axis=1)"
   ]
  },
  {
   "cell_type": "code",
   "execution_count": null,
   "id": "40751772-a354-45a7-85a7-6bd657bc6965",
   "metadata": {},
   "outputs": [],
   "source": [
    "testing_accuracy_efficient = accuracy_score(testing_true_efficient, testing_predict_classes_efficient)\n",
    "testing_precision_efficient = precision_score(testing_true_efficient, testing_predict_classes_efficient, average=\"weighted\")\n",
    "testing_recall_efficient = recall_score(testing_true_efficient, testing_predict_classes_efficient, average=\"weighted\")\n",
    "testing_f1_efficient = f1_score(testing_true_efficient, testing_predict_classes_efficient, average=\"weighted\")\n",
    "testing_auc_efficient = roc_auc_score(testing_true_efficient, testing_predict_efficient, multi_class=\"ovr\")\n",
    "\n",
    "final_efficient_net_results[\"Testing\"] = {\n",
    "    \"Accuracy\": testing_accuracy_efficient,\n",
    "    \"Precision\": testing_precision_efficient,\n",
    "    \"Recall\": testing_recall_efficient,\n",
    "    \"F1 Score\": testing_f1_efficient,\n",
    "    \"AUC\": testing_auc_efficient}"
   ]
  },
  {
   "cell_type": "code",
   "execution_count": null,
   "id": "8394d957-fadb-4a3b-afb9-b0db25b49975",
   "metadata": {},
   "outputs": [],
   "source": [
    "df_final_efficient_net_results = pd.DataFrame(final_efficient_net_results).transpose()\n",
    "display(df_final_efficient_net_results)"
   ]
  },
  {
   "cell_type": "markdown",
   "id": "b0fbf9ea-e4da-4b6f-82f9-b751cfbfaeba",
   "metadata": {},
   "source": [
    "## VGG16"
   ]
  },
  {
   "cell_type": "code",
   "execution_count": null,
   "id": "30c6f863-b86b-4a37-9009-3d5dbe08287b",
   "metadata": {},
   "outputs": [],
   "source": [
    "final_vgg_results = {}"
   ]
  },
  {
   "cell_type": "code",
   "execution_count": null,
   "id": "70e3447a-a8c9-4ba5-bc9b-d0d89c238486",
   "metadata": {},
   "outputs": [],
   "source": [
    "# initializing model\n",
    "vgg_base = VGG16(include_top=False, weights=\"imagenet\", \n",
    "                          input_shape=(224, 224, 3))\n",
    "\n",
    "# freezing base model\n",
    "vgg_base.trainable = False\n",
    "\n",
    "# using Sequential model to add classifier\n",
    "vgg_model = Sequential([vgg_base,\n",
    "                              layers.GlobalAveragePooling2D(), \n",
    "                              layers.BatchNormalization(),\n",
    "                              layers.ReLU(),\n",
    "                              layers.Dense(256, kernel_regularizer=regularizers.L2(0.05)),  \n",
    "                              layers.Dropout(0.2),  # dropout rate\n",
    "                              layers.Dense(6, activation=\"softmax\")   \n",
    "                            ])\n",
    "\n",
    "# implement early stopping; following documentation\n",
    "early_stopping_vgg = EarlyStopping(monitor=\"val_loss\",\n",
    "                               start_from_epoch=50,\n",
    "                               patience=10,\n",
    "                               min_delta=1e-4,\n",
    "                               restore_best_weights=True)\n",
    "\n",
    "# compile using ADAM\n",
    "vgg_model.compile(optimizer=\"adam\",\n",
    "                       loss=\"categorical_crossentropy\",\n",
    "                       metrics=[\"accuracy\"])"
   ]
  },
  {
   "cell_type": "code",
   "execution_count": null,
   "id": "d9a9b2ed-76d4-4ffd-b92b-6416f0834618",
   "metadata": {
    "scrolled": true
   },
   "outputs": [],
   "source": [
    "# training the model\n",
    "vgg_results = vgg_model.fit(training_dataset,\n",
    "                   validation_data=validation_dataset,\n",
    "                   callbacks=[early_stopping_vgg, lr_scheduler],\n",
    "                   epochs=50)"
   ]
  },
  {
   "cell_type": "code",
   "execution_count": null,
   "id": "5cf70fa8-7dc4-4c0f-a76e-665a8f43828a",
   "metadata": {},
   "outputs": [],
   "source": [
    "# metrics\n",
    "vgg_dict = vgg_results.history \n",
    "\n",
    "training_error_vgg = vgg_dict[\"loss\"]\n",
    "val_error_vgg = vgg_dict[\"val_loss\"]\n",
    "training_acc_vgg = vgg_dict[\"accuracy\"]\n",
    "val_acc_vgg = vgg_dict[\"val_accuracy\"]"
   ]
  },
  {
   "cell_type": "code",
   "execution_count": null,
   "id": "ad1af8a0-c004-47bc-a5cb-fa365582cb8f",
   "metadata": {},
   "outputs": [],
   "source": [
    "# plot training and val errors vs. epochs\n",
    "plt.plot(training_error_vgg, label=\"Training Error\")\n",
    "plt.plot(val_error_vgg, label=\"Validation Error\")\n",
    "plt.xlabel(\"Number of Epochs\")\n",
    "plt.ylabel(\"Error\")\n",
    "plt.title(\"VGG16: Training and Validation Errors\")\n",
    "plt.legend()\n",
    "plt.show()"
   ]
  },
  {
   "cell_type": "code",
   "execution_count": null,
   "id": "e21f53a2-cec0-4f59-8e5c-75c9f22b85a8",
   "metadata": {},
   "outputs": [],
   "source": [
    "# plot accuracies\n",
    "plt.plot(training_acc_vgg, label=\"Training Accuracy\")\n",
    "plt.plot(val_acc_vgg, label=\"Validation Accuracy\")\n",
    "plt.xlabel(\"Number of Epochs\")\n",
    "plt.ylabel(\"Accuracy\")\n",
    "plt.title(\"VGG16: Training and Validation Accuracies\")\n",
    "plt.legend()\n",
    "plt.show()"
   ]
  },
  {
   "cell_type": "code",
   "execution_count": null,
   "id": "163e4220-4402-4142-b532-337359d5c2ba",
   "metadata": {},
   "outputs": [],
   "source": [
    "# training metrics\n",
    "\n",
    "# predict\n",
    "training_predict_vgg = vgg_model.predict(training_dataset)\n",
    "\n",
    "# class labels\n",
    "training_predict_classes_vgg = np.argmax(training_predict_vgg, axis=1)\n",
    "\n",
    "# getting true labels and converting to numpy objects\n",
    "training_true_vgg = np.concatenate([y.numpy() for x, y in training_dataset])\n",
    "\n",
    "# reversing one hot encoding\n",
    "if training_true_vgg.ndim > 1:\n",
    "    training_true_vgg = np.argmax(training_true_vgg, axis=1)"
   ]
  },
  {
   "cell_type": "code",
   "execution_count": null,
   "id": "70b2bd54-1fdf-4601-afde-f2661a04bcb6",
   "metadata": {},
   "outputs": [],
   "source": [
    "training_accuracy_vgg = accuracy_score(training_true_vgg, training_predict_classes_vgg)\n",
    "training_precision_vgg = precision_score(training_true_vgg, training_predict_classes_vgg, average=\"weighted\")\n",
    "training_recall_vgg = recall_score(training_true_vgg, training_predict_classes_vgg, average=\"weighted\")\n",
    "training_f1_vgg = f1_score(training_true_vgg, training_predict_classes_vgg, average=\"weighted\")\n",
    "training_auc_vgg = roc_auc_score(training_true_vgg, training_predict_vgg, multi_class=\"ovr\")\n",
    "\n",
    "final_vgg_results[\"Training\"] = {\n",
    "    \"Accuracy\": training_accuracy_vgg,\n",
    "    \"Precision\": training_precision_vgg,\n",
    "    \"Recall\": training_recall_vgg,\n",
    "    \"F1 Score\": training_f1_vgg,\n",
    "    \"AUC\": training_auc_vgg}"
   ]
  },
  {
   "cell_type": "code",
   "execution_count": null,
   "id": "9e44af69-750b-4478-912f-f346a7e13e15",
   "metadata": {},
   "outputs": [],
   "source": [
    "# validation metrics\n",
    "\n",
    "# predict\n",
    "validation_predict_vgg = vgg_model.predict(validation_dataset)\n",
    "\n",
    "# class labels\n",
    "val_predict_classes_vgg = np.argmax(validation_predict_vgg, axis=1)\n",
    "\n",
    "# getting true labels and converting to numpy objects\n",
    "validation_true_vgg = np.concatenate([y.numpy() for x, y in validation_dataset])\n",
    "\n",
    "# reversing one hot encoding\n",
    "if validation_true_vgg.ndim > 1:\n",
    "    validation_true_vgg = np.argmax(validation_true_vgg, axis=1)"
   ]
  },
  {
   "cell_type": "code",
   "execution_count": null,
   "id": "efb441dd-39bb-40a5-980a-573d952aa79d",
   "metadata": {},
   "outputs": [],
   "source": [
    "validation_accuracy_vgg = accuracy_score(validation_true_vgg, val_predict_classes_vgg)\n",
    "validation_precision_vgg = precision_score(validation_true_vgg, val_predict_classes_vgg, average=\"weighted\")\n",
    "validation_recall_vgg = recall_score(validation_true_vgg, val_predict_classes_vgg, average=\"weighted\")\n",
    "validation_f1_vgg = f1_score(validation_true_vgg, val_predict_classes_vgg, average=\"weighted\")\n",
    "validation_auc_vgg = roc_auc_score(validation_true_vgg, validation_predict_vgg, multi_class=\"ovr\")\n",
    "\n",
    "final_vgg_results[\"Validation\"] = {\n",
    "    \"Accuracy\": validation_accuracy_vgg,\n",
    "    \"Precision\": validation_precision_vgg,\n",
    "    \"Recall\": validation_recall_vgg,\n",
    "    \"F1 Score\": validation_f1_vgg,\n",
    "    \"AUC\": validation_auc_vgg}"
   ]
  },
  {
   "cell_type": "code",
   "execution_count": null,
   "id": "b1324d13-d17f-4974-bd99-eaec2434e808",
   "metadata": {},
   "outputs": [],
   "source": [
    "# testing metrics\n",
    "\n",
    "# predict\n",
    "testing_predict_vgg = vgg_model.predict(testing_dataset)\n",
    "\n",
    "# class labels\n",
    "testing_predict_classes_vgg = np.argmax(testing_predict_vgg, axis=1)\n",
    "\n",
    "# getting true labels and converting to numpy objects\n",
    "testing_true_vgg = np.concatenate([y.numpy() for x, y in testing_dataset])\n",
    "\n",
    "# reversing one hot encoding\n",
    "if testing_true_vgg.ndim > 1:\n",
    "    testing_true_vgg = np.argmax(testing_true_vgg, axis=1)"
   ]
  },
  {
   "cell_type": "code",
   "execution_count": null,
   "id": "d043d5ff-b606-410a-995d-c4151ceef362",
   "metadata": {},
   "outputs": [],
   "source": [
    "testing_accuracy_vgg = accuracy_score(testing_true_vgg, testing_predict_classes_vgg)\n",
    "testing_precision_vgg = precision_score(testing_true_vgg, testing_predict_classes_vgg, average=\"weighted\")\n",
    "testing_recall_vgg = recall_score(testing_true_vgg, testing_predict_classes_vgg, average=\"weighted\")\n",
    "testing_f1_vgg = f1_score(testing_true_vgg, testing_predict_classes_vgg, average=\"weighted\")\n",
    "testing_auc_vgg = roc_auc_score(testing_true_vgg, testing_predict_vgg, multi_class=\"ovr\")\n",
    "\n",
    "final_vgg_results[\"Testing\"] = {\n",
    "    \"Accuracy\": testing_accuracy_vgg,\n",
    "    \"Precision\": testing_precision_vgg,\n",
    "    \"Recall\": testing_recall_vgg,\n",
    "    \"F1 Score\": testing_f1_vgg,\n",
    "    \"AUC\": testing_auc_vgg}"
   ]
  },
  {
   "cell_type": "code",
   "execution_count": null,
   "id": "40e278ed-24ae-4251-acb7-a28644b2f081",
   "metadata": {},
   "outputs": [],
   "source": [
    "df_final_vgg_results = pd.DataFrame(final_vgg_results).transpose()\n",
    "display(df_final_vgg_results)"
   ]
  },
  {
   "cell_type": "markdown",
   "id": "c63a57fa-ad27-4f0c-91ee-ff3509cbddd8",
   "metadata": {},
   "source": [
    "### After performing my models, I was getting quite poor results on the training and testing sets. I tried a variety of changes and modifications to my models to try and see if it would improve my results in anyway. I did the following:\n",
    "1. Checked class distribution in all datasets -> classes are balanced\n",
    "2. Checked for data leakage -> no data leakage\n",
    "3. Lowered L2 regularizer and batch size -> no improvement\n",
    "4. Made sure I was only shuffling the data once, instead of after every epoch -> Improved training results significantly, but not the testing results\n",
    "5. Normalized the images so the pixels are between [-1,1] -> Nothing to improve the testing set\n",
    "6. Decayed learning rate along with increasing L2 regularizer to reduce overfitting -> only improved testing very slightly; not enough\n",
    "7. Increasing the dropout rate for denser layers to help with overfitting and increasing the number of epochs -> little increase\n",
    "\n",
    "### I successfully improved training results, but not testing. I tried my best to hack at this problem, but it still persists. Due to time constraints as well as computer capabilities, I am moving on and I hope my effort in trying to solve the problem and explore different potential solutions shows my committment to the project despite my results. From the results I obtained, it seems like ResNet50 performed the best though it is hard to tell with my results."
   ]
  },
  {
   "cell_type": "markdown",
   "id": "6eb2c6a8-3b8d-484b-b1fb-e857ee7b5759",
   "metadata": {},
   "source": [
    "## Sources"
   ]
  },
  {
   "cell_type": "markdown",
   "id": "e39b1304-8d5e-49f3-86f7-fde41834a84c",
   "metadata": {},
   "source": [
    "https://www.atmosera.com/blog/data-augmentation/#:~:text=The%20parameters%20passed%20to%20ImageDataGenerator,by%20%2D30%20to%2030%20degrees\n",
    "\n",
    "https://www.tensorflow.org/api_docs/python/tf/keras/preprocessing/image_dataset_from_directory\n",
    "\n",
    "https://www.tensorflow.org/guide/data_performance\n",
    "\n",
    "https://www.tensorflow.org/api_docs/python/tf/keras/Sequential\n",
    "\n",
    "https://www.tensorflow.org/api_docs/python/tf/keras/layers\n",
    "\n",
    "https://keras.io/guides/sequential_model/\n",
    "\n",
    "https://keras.io/api/applications/resnet/\n",
    "\n",
    "https://keras.io/api/optimizers/adam/\n",
    "\n",
    "https://keras.io/api/metrics/\n",
    "\n",
    "https://keras.io/api/losses/probabilistic_losses/#categoricalcrossentropy-class\n",
    "\n",
    "https://www.tensorflow.org/api_docs/python/tf/keras/Model#fit\n",
    "\n",
    "https://www.tensorflow.org/api_docs/python/tf/keras/callbacks/EarlyStopping\n",
    "\n",
    "https://stackoverflow.com/questions/43906048/which-parameters-should-be-used-for-early-stopping\n",
    "\n",
    "https://medium.com/@kenneth.ca95/a-guide-to-transfer-learning-with-keras-using-resnet50-a81a4a28084b\n",
    "\n",
    "https://numpy.org/doc/2.1/reference/generated/numpy.ndarray.ndim.html\n",
    "\n",
    "https://keras.io/api/layers/activations/\n",
    "\n",
    "https://keras.io/api/applications/efficientnet/\n",
    "\n",
    "https://www.tensorflow.org/api_docs/python/tf/data/Dataset#shuffle\n",
    "\n",
    "https://stackoverflow.com/questions/73869781/dataset-shuffled-with-keras\n",
    "\n",
    "https://piazza.com/class/m09cnglrrao1gr/post/1159\n",
    "\n",
    "https://medium.com/@nitishkundu1993/exploring-resnet50-an-in-depth-look-at-the-model-architecture-and-code-implementation-d8d8fa67e46f#:~:text=It%20is%20a%20variant%20of,of%2Dthe%2Dart%20results\n",
    "\n",
    "https://keras.io/api/applications/vgg/\n",
    "\n"
   ]
  },
  {
   "cell_type": "code",
   "execution_count": null,
   "id": "7843254a-b316-4ef8-9632-d82ec127283e",
   "metadata": {},
   "outputs": [],
   "source": []
  }
 ],
 "metadata": {
  "kernelspec": {
   "display_name": "Python 3 (ipykernel)",
   "language": "python",
   "name": "python3"
  },
  "language_info": {
   "codemirror_mode": {
    "name": "ipython",
    "version": 3
   },
   "file_extension": ".py",
   "mimetype": "text/x-python",
   "name": "python",
   "nbconvert_exporter": "python",
   "pygments_lexer": "ipython3",
   "version": "3.12.7"
  }
 },
 "nbformat": 4,
 "nbformat_minor": 5
}
